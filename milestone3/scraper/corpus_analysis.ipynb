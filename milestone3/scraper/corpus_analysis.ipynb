{
 "cells": [
  {
   "cell_type": "markdown",
   "id": "edb82820-0c9a-4c39-874f-c345f869da86",
   "metadata": {},
   "source": [
    "#### Load in data"
   ]
  },
  {
   "cell_type": "code",
   "execution_count": 1,
   "id": "0ac3eeb6-3ae7-4bbc-bda1-611af2c7515d",
   "metadata": {},
   "outputs": [],
   "source": [
    "import json\n",
    "import csv\n",
    "\n",
    "data = []\n",
    "for i in range(1, 6):\n",
    "    filename = './run{}/'.format(i) + 'qa_pairs.json'\n",
    "    with open(filename, 'r') as f:\n",
    "        data += json.load(f)"
   ]
  },
  {
   "cell_type": "markdown",
   "id": "8fe2e7da-074c-4c37-a203-310e1b95351b",
   "metadata": {},
   "source": [
    "#### Load in tokenizer"
   ]
  },
  {
   "cell_type": "code",
   "execution_count": 2,
   "id": "e66e8787-db7b-4c28-a22f-300f7da13e7a",
   "metadata": {},
   "outputs": [],
   "source": [
    "import en_core_web_sm\n",
    "spacy_en = en_core_web_sm.load()"
   ]
  },
  {
   "cell_type": "code",
   "execution_count": 3,
   "id": "34c7039c-97ee-4b70-bd13-1cb165a8f77d",
   "metadata": {},
   "outputs": [],
   "source": [
    "def tokenize_en(text):\n",
    "    \"\"\"\n",
    "    Tokenizes English text from a string into a list of strings (tokens)\n",
    "    \"\"\"\n",
    "    return [tok.text for tok in spacy_en.tokenizer(text)]"
   ]
  },
  {
   "cell_type": "markdown",
   "id": "b18f48c7-2ed5-4042-b995-a1c78eb1eab7",
   "metadata": {},
   "source": [
    "#### Some basic stats"
   ]
  },
  {
   "cell_type": "code",
   "execution_count": 4,
   "id": "c0a59e61-df8c-4fa8-8481-939c2c02ce52",
   "metadata": {},
   "outputs": [
    {
     "name": "stdout",
     "output_type": "stream",
     "text": [
      "total question count: 800\n",
      "total answer count: 3815\n",
      "number of word tokens: 110305\n",
      "number of word types: 7507\n"
     ]
    }
   ],
   "source": [
    "q_count = 0\n",
    "a_count = 0\n",
    "word_count = 0\n",
    "word_types = set()\n",
    "with open('all_qa_pairs.csv', 'w', encoding='utf-8') as f:\n",
    "    writer = csv.writer(f)\n",
    "    writer.writerow(['question', 'answer', 'key phrases'])\n",
    "    for pair in data:\n",
    "        question = pair['question']\n",
    "        q_count += 1\n",
    "        tokenized_question = tokenize_en(question)\n",
    "        word_count += len(tokenized_question)\n",
    "        word_types = word_types.union(set(tokenized_question))\n",
    "        for answer in pair['answers']:\n",
    "            tokenized_answer = tokenize_en(answer)\n",
    "            word_count += len(tokenized_answer)\n",
    "            word_types = word_types.union(tokenized_answer)\n",
    "            a_count += 1\n",
    "            writer.writerow([question, answer, ''])\n",
    "        \n",
    "print('total question count:', q_count)\n",
    "print('total answer count:', a_count)\n",
    "print('number of word tokens:', word_count)\n",
    "print('number of word types:', len(word_types))"
   ]
  },
  {
   "cell_type": "code",
   "execution_count": 5,
   "id": "adabef7b-ebde-4280-aaef-1129708132ba",
   "metadata": {},
   "outputs": [],
   "source": [
    "with open('all_qa_pairs.json', 'w') as outfile:\n",
    "    json.dump(data, outfile)"
   ]
  },
  {
   "cell_type": "code",
   "execution_count": null,
   "id": "6167779b-1b29-454c-a361-4a2fda8d5be5",
   "metadata": {},
   "outputs": [],
   "source": []
  },
  {
   "cell_type": "code",
   "execution_count": null,
   "id": "f441ef89-4c5d-4a69-8c2b-979b1e813151",
   "metadata": {},
   "outputs": [],
   "source": []
  }
 ],
 "metadata": {
  "kernelspec": {
   "display_name": "Python 3",
   "language": "python",
   "name": "python3"
  },
  "language_info": {
   "codemirror_mode": {
    "name": "ipython",
    "version": 3
   },
   "file_extension": ".py",
   "mimetype": "text/x-python",
   "name": "python",
   "nbconvert_exporter": "python",
   "pygments_lexer": "ipython3",
   "version": "3.8.8"
  }
 },
 "nbformat": 4,
 "nbformat_minor": 5
}

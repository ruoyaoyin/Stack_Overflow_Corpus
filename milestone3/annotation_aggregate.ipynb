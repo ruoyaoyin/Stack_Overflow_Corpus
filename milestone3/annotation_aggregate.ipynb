{
 "cells": [
  {
   "cell_type": "markdown",
   "id": "7a5d1486-5b63-4214-9eed-f4c105d3e38c",
   "metadata": {},
   "source": [
    "#### Setup"
   ]
  },
  {
   "cell_type": "code",
   "execution_count": 1,
   "id": "44255e8d-9bda-4ce5-9207-6be81bbf19a6",
   "metadata": {},
   "outputs": [],
   "source": [
    "import pandas as pd\n",
    "import csv\n",
    "import math"
   ]
  },
  {
   "cell_type": "markdown",
   "id": "5d5a373c-a1bf-48f1-b102-e47cab39a778",
   "metadata": {},
   "source": [
    "#### Load-in data"
   ]
  },
  {
   "cell_type": "code",
   "execution_count": 2,
   "id": "e6eb6f40-25d6-4476-af72-07ddef3586f4",
   "metadata": {},
   "outputs": [
    {
     "name": "stdout",
     "output_type": "stream",
     "text": [
      "<class 'pandas.core.frame.DataFrame'>\n",
      "RangeIndex: 1150 entries, 0 to 1149\n",
      "Data columns (total 14 columns):\n",
      " #   Column       Non-Null Count  Dtype \n",
      "---  ------       --------------  ----- \n",
      " 0   question     1148 non-null   object\n",
      " 1   answer       1150 non-null   object\n",
      " 2   Ahsan        533 non-null    object\n",
      " 3   Unnamed: 3   550 non-null    object\n",
      " 4   Unnamed: 4   550 non-null    object\n",
      " 5   Oksana       516 non-null    object\n",
      " 6   Unnamed: 6   515 non-null    object\n",
      " 7   Unnamed: 7   539 non-null    object\n",
      " 8   Ruoyao       537 non-null    object\n",
      " 9   Unnamed: 9   504 non-null    object\n",
      " 10  Unnamed: 10  504 non-null    object\n",
      " 11  Jeremy       535 non-null    object\n",
      " 12  Unnamed: 12  535 non-null    object\n",
      " 13  Unnamed: 13  534 non-null    object\n",
      "dtypes: object(14)\n",
      "memory usage: 125.9+ KB\n"
     ]
    }
   ],
   "source": [
    "all_annot_df = pd.read_csv('data/Annotation_Mastersheet.csv')[:1150]\n",
    "all_annot_df.info()"
   ]
  },
  {
   "cell_type": "markdown",
   "id": "06eeedfa-5c2f-44cc-ae92-a5d31c499ce4",
   "metadata": {},
   "source": [
    "#### Seperate annotations"
   ]
  },
  {
   "cell_type": "code",
   "execution_count": 3,
   "id": "3a74801c-51f2-4231-844c-9b82aac0815e",
   "metadata": {},
   "outputs": [],
   "source": [
    "questions = all_annot_df['question'].values\n",
    "answers = all_annot_df['answer'].values\n",
    "annotations = all_annot_df.loc[:, ~all_annot_df.columns.isin(['question', 'answer'])]"
   ]
  },
  {
   "cell_type": "code",
   "execution_count": 4,
   "id": "38fc45b8-30a9-4c30-9967-542650c404d0",
   "metadata": {},
   "outputs": [
    {
     "name": "stdout",
     "output_type": "stream",
     "text": [
      "Question samples:\n"
     ]
    },
    {
     "data": {
      "text/plain": [
       "array(['What is the use of the yield keyword in Python? What does it do?',\n",
       "       'Given the following code, what does the if __name__ == \"__main__\": do?',\n",
       "       'Given the following code, what does the if __name__ == \"__main__\": do?',\n",
       "       'In Python, what are metaclasses and what do we use them for?',\n",
       "       'In Python, what are metaclasses and what do we use them for?'],\n",
       "      dtype=object)"
      ]
     },
     "execution_count": 4,
     "metadata": {},
     "output_type": "execute_result"
    }
   ],
   "source": [
    "print('Question samples:')\n",
    "questions[:5]"
   ]
  },
  {
   "cell_type": "code",
   "execution_count": 5,
   "id": "b04e2928-d8ed-4b0b-b165-56eeabd6aa17",
   "metadata": {},
   "outputs": [
    {
     "name": "stdout",
     "output_type": "stream",
     "text": [
      "Answer samples:\n"
     ]
    },
    {
     "data": {
      "text/plain": [
       "array(['To understand what yield does, you must understand what generators are. And before you can understand generators, you must understand iterables.',\n",
       "       \"It's boilerplate code that protects users from accidentally invoking the script when they didn't intend to. Here are some common problems when the guard is omitted from a script:\",\n",
       "       'if __name__ == \"__main__\" is the part that runs when the script is run from (say) the command line using a command like python myscript.py.',\n",
       "       'Before understanding metaclasses, you need to master classes in Python. And Python has a very peculiar idea of what classes are, borrowed from the Smalltalk language.',\n",
       "       'A metaclass is the class of a class. A class defines how an instance of the class (i.e. an object) behaves while a metaclass defines how a class behaves. A class is an instance of a metaclass.'],\n",
       "      dtype=object)"
      ]
     },
     "execution_count": 5,
     "metadata": {},
     "output_type": "execute_result"
    }
   ],
   "source": [
    "print('Answer samples:')\n",
    "answers[:5]"
   ]
  },
  {
   "cell_type": "code",
   "execution_count": 6,
   "id": "9c872308-403a-4d1a-bf7e-9f7b430735d8",
   "metadata": {},
   "outputs": [
    {
     "name": "stdout",
     "output_type": "stream",
     "text": [
      "All annotation samples:\n"
     ]
    },
    {
     "data": {
      "text/html": [
       "<div>\n",
       "<style scoped>\n",
       "    .dataframe tbody tr th:only-of-type {\n",
       "        vertical-align: middle;\n",
       "    }\n",
       "\n",
       "    .dataframe tbody tr th {\n",
       "        vertical-align: top;\n",
       "    }\n",
       "\n",
       "    .dataframe thead th {\n",
       "        text-align: right;\n",
       "    }\n",
       "</style>\n",
       "<table border=\"1\" class=\"dataframe\">\n",
       "  <thead>\n",
       "    <tr style=\"text-align: right;\">\n",
       "      <th></th>\n",
       "      <th>Ahsan</th>\n",
       "      <th>Unnamed: 3</th>\n",
       "      <th>Unnamed: 4</th>\n",
       "      <th>Oksana</th>\n",
       "      <th>Unnamed: 6</th>\n",
       "      <th>Unnamed: 7</th>\n",
       "      <th>Ruoyao</th>\n",
       "      <th>Unnamed: 9</th>\n",
       "      <th>Unnamed: 10</th>\n",
       "      <th>Jeremy</th>\n",
       "      <th>Unnamed: 12</th>\n",
       "      <th>Unnamed: 13</th>\n",
       "    </tr>\n",
       "  </thead>\n",
       "  <tbody>\n",
       "    <tr>\n",
       "      <th>0</th>\n",
       "      <td>iterator</td>\n",
       "      <td>beginner</td>\n",
       "      <td>direct</td>\n",
       "      <td>iterator</td>\n",
       "      <td>beginner</td>\n",
       "      <td>direct</td>\n",
       "      <td>objects</td>\n",
       "      <td>NaN</td>\n",
       "      <td>NaN</td>\n",
       "      <td>NaN</td>\n",
       "      <td>NaN</td>\n",
       "      <td>NaN</td>\n",
       "    </tr>\n",
       "    <tr>\n",
       "      <th>1</th>\n",
       "      <td>classes</td>\n",
       "      <td>beginner</td>\n",
       "      <td>direct</td>\n",
       "      <td>built-in</td>\n",
       "      <td>beginner</td>\n",
       "      <td>direct</td>\n",
       "      <td>variables</td>\n",
       "      <td>NaN</td>\n",
       "      <td>NaN</td>\n",
       "      <td>NaN</td>\n",
       "      <td>NaN</td>\n",
       "      <td>NaN</td>\n",
       "    </tr>\n",
       "    <tr>\n",
       "      <th>2</th>\n",
       "      <td>classes</td>\n",
       "      <td>beginner</td>\n",
       "      <td>direct</td>\n",
       "      <td>built-in</td>\n",
       "      <td>beginner</td>\n",
       "      <td>direct</td>\n",
       "      <td>variables</td>\n",
       "      <td>NaN</td>\n",
       "      <td>NaN</td>\n",
       "      <td>NaN</td>\n",
       "      <td>NaN</td>\n",
       "      <td>NaN</td>\n",
       "    </tr>\n",
       "    <tr>\n",
       "      <th>3</th>\n",
       "      <td>classes</td>\n",
       "      <td>beginner</td>\n",
       "      <td>direct</td>\n",
       "      <td>classes</td>\n",
       "      <td>beginner</td>\n",
       "      <td>direct</td>\n",
       "      <td>classes</td>\n",
       "      <td>NaN</td>\n",
       "      <td>NaN</td>\n",
       "      <td>NaN</td>\n",
       "      <td>NaN</td>\n",
       "      <td>NaN</td>\n",
       "    </tr>\n",
       "    <tr>\n",
       "      <th>4</th>\n",
       "      <td>classes</td>\n",
       "      <td>beginner</td>\n",
       "      <td>direct</td>\n",
       "      <td>classes</td>\n",
       "      <td>beginner</td>\n",
       "      <td>direct</td>\n",
       "      <td>classes</td>\n",
       "      <td>NaN</td>\n",
       "      <td>NaN</td>\n",
       "      <td>NaN</td>\n",
       "      <td>NaN</td>\n",
       "      <td>NaN</td>\n",
       "    </tr>\n",
       "  </tbody>\n",
       "</table>\n",
       "</div>"
      ],
      "text/plain": [
       "      Ahsan Unnamed: 3 Unnamed: 4    Oksana Unnamed: 6 Unnamed: 7     Ruoyao  \\\n",
       "0  iterator   beginner     direct  iterator   beginner     direct    objects   \n",
       "1   classes   beginner     direct  built-in   beginner     direct  variables   \n",
       "2   classes   beginner     direct  built-in   beginner     direct  variables   \n",
       "3   classes   beginner     direct   classes   beginner     direct    classes   \n",
       "4   classes   beginner     direct   classes   beginner     direct    classes   \n",
       "\n",
       "  Unnamed: 9 Unnamed: 10 Jeremy Unnamed: 12 Unnamed: 13  \n",
       "0        NaN         NaN    NaN         NaN         NaN  \n",
       "1        NaN         NaN    NaN         NaN         NaN  \n",
       "2        NaN         NaN    NaN         NaN         NaN  \n",
       "3        NaN         NaN    NaN         NaN         NaN  \n",
       "4        NaN         NaN    NaN         NaN         NaN  "
      ]
     },
     "execution_count": 6,
     "metadata": {},
     "output_type": "execute_result"
    }
   ],
   "source": [
    "print('All annotation samples:')\n",
    "annotations.head()"
   ]
  },
  {
   "cell_type": "code",
   "execution_count": 7,
   "id": "592c19c4-8d93-428f-b27d-2d0dbd830241",
   "metadata": {},
   "outputs": [],
   "source": [
    "classifications = annotations.iloc[:,[i for i in range(12) if i % 3 == 0]].values\n",
    "complexity = annotations.iloc[:,[i for i in range(12) if i % 3 == 1]].values\n",
    "directness = annotations.iloc[:,[i for i in range(12) if i % 3 == 2]].values"
   ]
  },
  {
   "cell_type": "code",
   "execution_count": 8,
   "id": "e946bd6f-8172-48cd-9fe3-33dae978237f",
   "metadata": {},
   "outputs": [
    {
     "name": "stdout",
     "output_type": "stream",
     "text": [
      "Classification annotation samples:\n"
     ]
    },
    {
     "data": {
      "text/plain": [
       "['objects, iterator',\n",
       " 'built-in, classes, variables',\n",
       " 'built-in, classes, variables',\n",
       " 'classes',\n",
       " 'classes']"
      ]
     },
     "execution_count": 8,
     "metadata": {},
     "output_type": "execute_result"
    }
   ],
   "source": [
    "agg_classifications = []\n",
    "for annots in classifications:\n",
    "    agg_classifications.append(', '.join(list(set([annot for annot in annots if type(annot) == str]))))\n",
    "print('Classification annotation samples:')\n",
    "agg_classifications[:5]"
   ]
  },
  {
   "cell_type": "code",
   "execution_count": 9,
   "id": "570ffcb2-209c-4838-9386-6945a6491a6f",
   "metadata": {},
   "outputs": [
    {
     "name": "stdout",
     "output_type": "stream",
     "text": [
      "Complexity annotation samples:\n"
     ]
    },
    {
     "data": {
      "text/plain": [
       "['beginner', 'beginner', 'beginner', 'beginner', 'beginner']"
      ]
     },
     "execution_count": 9,
     "metadata": {},
     "output_type": "execute_result"
    }
   ],
   "source": [
    "agg_complexity = []\n",
    "for annots in complexity:\n",
    "    if 'expert' in annots:\n",
    "        agg_complexity.append('expert')\n",
    "        continue\n",
    "    elif 'advanced' in annots:\n",
    "        agg_complexity.append('advanced')\n",
    "    elif 'intermediate' in annots:\n",
    "        agg_complexity.append('intermediate')\n",
    "    else:\n",
    "        agg_complexity.append('beginner')\n",
    "print('Complexity annotation samples:')\n",
    "agg_complexity[:5]"
   ]
  },
  {
   "cell_type": "code",
   "execution_count": 10,
   "id": "e08bed93-6851-4e78-a330-3e6d439db919",
   "metadata": {},
   "outputs": [
    {
     "name": "stdout",
     "output_type": "stream",
     "text": [
      "Directness annotation samples:\n"
     ]
    },
    {
     "data": {
      "text/plain": [
       "['direct', 'direct', 'direct', 'direct', 'direct']"
      ]
     },
     "execution_count": 10,
     "metadata": {},
     "output_type": "execute_result"
    }
   ],
   "source": [
    "agg_directness = []\n",
    "for annots in directness:\n",
    "    if 'adding on' in annots:\n",
    "        agg_directness.append('adding on')\n",
    "    elif 'reference' in annots:\n",
    "        agg_directness.append('reference')\n",
    "    else:\n",
    "        agg_directness.append('direct')\n",
    "print('Directness annotation samples:')\n",
    "agg_directness[:5]"
   ]
  },
  {
   "cell_type": "markdown",
   "id": "7431a639-db03-4fdb-adc6-5eb6b2c86082",
   "metadata": {},
   "source": [
    "#### Aggregate annotations"
   ]
  },
  {
   "cell_type": "code",
   "execution_count": 11,
   "id": "441c9628-8546-4b9f-83d7-410d829f2478",
   "metadata": {},
   "outputs": [],
   "source": [
    "aggregate_df = pd.DataFrame(columns=['Question', 'Answer', 'Classification', 'Complexity', 'Directness'])\n",
    "aggregate_df['Question'] = questions\n",
    "aggregate_df['Answer'] = answers\n",
    "aggregate_df['Classification'] = agg_classifications\n",
    "aggregate_df['Complexity'] = agg_complexity\n",
    "aggregate_df['Directness'] = agg_directness"
   ]
  },
  {
   "cell_type": "code",
   "execution_count": 12,
   "id": "360899c6-0469-4089-b6d3-7c021a849a0d",
   "metadata": {},
   "outputs": [
    {
     "data": {
      "text/html": [
       "<div>\n",
       "<style scoped>\n",
       "    .dataframe tbody tr th:only-of-type {\n",
       "        vertical-align: middle;\n",
       "    }\n",
       "\n",
       "    .dataframe tbody tr th {\n",
       "        vertical-align: top;\n",
       "    }\n",
       "\n",
       "    .dataframe thead th {\n",
       "        text-align: right;\n",
       "    }\n",
       "</style>\n",
       "<table border=\"1\" class=\"dataframe\">\n",
       "  <thead>\n",
       "    <tr style=\"text-align: right;\">\n",
       "      <th></th>\n",
       "      <th>Question</th>\n",
       "      <th>Answer</th>\n",
       "      <th>Classification</th>\n",
       "      <th>Complexity</th>\n",
       "      <th>Directness</th>\n",
       "    </tr>\n",
       "  </thead>\n",
       "  <tbody>\n",
       "    <tr>\n",
       "      <th>0</th>\n",
       "      <td>What is the use of the yield keyword in Python...</td>\n",
       "      <td>To understand what yield does, you must unders...</td>\n",
       "      <td>objects, iterator</td>\n",
       "      <td>beginner</td>\n",
       "      <td>direct</td>\n",
       "    </tr>\n",
       "    <tr>\n",
       "      <th>1</th>\n",
       "      <td>Given the following code, what does the if __n...</td>\n",
       "      <td>It's boilerplate code that protects users from...</td>\n",
       "      <td>built-in, classes, variables</td>\n",
       "      <td>beginner</td>\n",
       "      <td>direct</td>\n",
       "    </tr>\n",
       "    <tr>\n",
       "      <th>2</th>\n",
       "      <td>Given the following code, what does the if __n...</td>\n",
       "      <td>if __name__ == \"__main__\" is the part that run...</td>\n",
       "      <td>built-in, classes, variables</td>\n",
       "      <td>beginner</td>\n",
       "      <td>direct</td>\n",
       "    </tr>\n",
       "    <tr>\n",
       "      <th>3</th>\n",
       "      <td>In Python, what are metaclasses and what do we...</td>\n",
       "      <td>Before understanding metaclasses, you need to ...</td>\n",
       "      <td>classes</td>\n",
       "      <td>beginner</td>\n",
       "      <td>direct</td>\n",
       "    </tr>\n",
       "    <tr>\n",
       "      <th>4</th>\n",
       "      <td>In Python, what are metaclasses and what do we...</td>\n",
       "      <td>A metaclass is the class of a class. A class d...</td>\n",
       "      <td>classes</td>\n",
       "      <td>beginner</td>\n",
       "      <td>direct</td>\n",
       "    </tr>\n",
       "  </tbody>\n",
       "</table>\n",
       "</div>"
      ],
      "text/plain": [
       "                                            Question  \\\n",
       "0  What is the use of the yield keyword in Python...   \n",
       "1  Given the following code, what does the if __n...   \n",
       "2  Given the following code, what does the if __n...   \n",
       "3  In Python, what are metaclasses and what do we...   \n",
       "4  In Python, what are metaclasses and what do we...   \n",
       "\n",
       "                                              Answer  \\\n",
       "0  To understand what yield does, you must unders...   \n",
       "1  It's boilerplate code that protects users from...   \n",
       "2  if __name__ == \"__main__\" is the part that run...   \n",
       "3  Before understanding metaclasses, you need to ...   \n",
       "4  A metaclass is the class of a class. A class d...   \n",
       "\n",
       "                 Classification Complexity Directness  \n",
       "0             objects, iterator   beginner     direct  \n",
       "1  built-in, classes, variables   beginner     direct  \n",
       "2  built-in, classes, variables   beginner     direct  \n",
       "3                       classes   beginner     direct  \n",
       "4                       classes   beginner     direct  "
      ]
     },
     "execution_count": 12,
     "metadata": {},
     "output_type": "execute_result"
    }
   ],
   "source": [
    "aggregate_df.head()"
   ]
  },
  {
   "cell_type": "code",
   "execution_count": 13,
   "id": "aa9cd980-39ab-46e0-baf2-931a164d7919",
   "metadata": {},
   "outputs": [],
   "source": [
    "aggregate_df.to_csv('data/final_annotations.csv')"
   ]
  },
  {
   "cell_type": "markdown",
   "id": "b9e0b466-7abd-49cc-a5b4-697de29dd196",
   "metadata": {},
   "source": [
    " "
   ]
  }
 ],
 "metadata": {
  "kernelspec": {
   "display_name": "Python 3",
   "language": "python",
   "name": "python3"
  },
  "language_info": {
   "codemirror_mode": {
    "name": "ipython",
    "version": 3
   },
   "file_extension": ".py",
   "mimetype": "text/x-python",
   "name": "python",
   "nbconvert_exporter": "python",
   "pygments_lexer": "ipython3",
   "version": "3.8.8"
  }
 },
 "nbformat": 4,
 "nbformat_minor": 5
}

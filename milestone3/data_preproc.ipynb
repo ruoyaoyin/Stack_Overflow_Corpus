{
 "cells": [
  {
   "cell_type": "markdown",
   "id": "91e185e5-86cd-45a5-8ae0-221ba823399d",
   "metadata": {},
   "source": [
    "#### Setup"
   ]
  },
  {
   "cell_type": "code",
   "execution_count": 1,
   "id": "54e184e4-9a02-4e7a-8c47-80e898614175",
   "metadata": {},
   "outputs": [],
   "source": [
    "import pandas\n",
    "import csv"
   ]
  },
  {
   "cell_type": "markdown",
   "id": "7d42285d-d505-42e1-9d15-d4db6c0cbe7f",
   "metadata": {},
   "source": [
    "#### Preprocess data"
   ]
  },
  {
   "cell_type": "code",
   "execution_count": 2,
   "id": "924f297f-3cec-4c6a-9926-9df9e1920cf4",
   "metadata": {},
   "outputs": [
    {
     "name": "stdout",
     "output_type": "stream",
     "text": [
      "Number of question-answer pair before preproc: 3815\n"
     ]
    }
   ],
   "source": [
    "old_df = pandas.read_csv('scraper/all_qa_pairs.csv')\n",
    "print('Number of question-answer pair before preproc:', len(old_df))"
   ]
  },
  {
   "cell_type": "code",
   "execution_count": 3,
   "id": "d7e08776-6406-4d3b-95f4-61fe5f4cd158",
   "metadata": {},
   "outputs": [
    {
     "name": "stdout",
     "output_type": "stream",
     "text": [
      "Number of question-answer pair after preproc: 1361\n"
     ]
    }
   ],
   "source": [
    "clean_df = old_df.loc[old_df['answer'].str.strip().str.split().str.len() > 20]\n",
    "# clean_df.reset_index(inplace=True)\n",
    "print('Number of question-answer pair after preproc:', len(clean_df))"
   ]
  },
  {
   "cell_type": "code",
   "execution_count": 4,
   "id": "9bd3040a-e3a9-4edb-9557-a98252fde298",
   "metadata": {},
   "outputs": [
    {
     "data": {
      "text/html": [
       "<div>\n",
       "<style scoped>\n",
       "    .dataframe tbody tr th:only-of-type {\n",
       "        vertical-align: middle;\n",
       "    }\n",
       "\n",
       "    .dataframe tbody tr th {\n",
       "        vertical-align: top;\n",
       "    }\n",
       "\n",
       "    .dataframe thead th {\n",
       "        text-align: right;\n",
       "    }\n",
       "</style>\n",
       "<table border=\"1\" class=\"dataframe\">\n",
       "  <thead>\n",
       "    <tr style=\"text-align: right;\">\n",
       "      <th></th>\n",
       "      <th>question</th>\n",
       "      <th>answer</th>\n",
       "      <th>key phrases</th>\n",
       "    </tr>\n",
       "  </thead>\n",
       "  <tbody>\n",
       "    <tr>\n",
       "      <th>0</th>\n",
       "      <td>What is the use of the yield keyword in Python...</td>\n",
       "      <td>To understand what yield does, you must unders...</td>\n",
       "      <td>NaN</td>\n",
       "    </tr>\n",
       "    <tr>\n",
       "      <th>5</th>\n",
       "      <td>Given the following code, what does the if __n...</td>\n",
       "      <td>It's boilerplate code that protects users from...</td>\n",
       "      <td>NaN</td>\n",
       "    </tr>\n",
       "    <tr>\n",
       "      <th>9</th>\n",
       "      <td>Given the following code, what does the if __n...</td>\n",
       "      <td>if __name__ == \"__main__\" is the part that run...</td>\n",
       "      <td>NaN</td>\n",
       "    </tr>\n",
       "    <tr>\n",
       "      <th>15</th>\n",
       "      <td>In Python, what are metaclasses and what do we...</td>\n",
       "      <td>Before understanding metaclasses, you need to ...</td>\n",
       "      <td>NaN</td>\n",
       "    </tr>\n",
       "    <tr>\n",
       "      <th>16</th>\n",
       "      <td>In Python, what are metaclasses and what do we...</td>\n",
       "      <td>A metaclass is the class of a class. A class d...</td>\n",
       "      <td>NaN</td>\n",
       "    </tr>\n",
       "  </tbody>\n",
       "</table>\n",
       "</div>"
      ],
      "text/plain": [
       "                                             question  \\\n",
       "0   What is the use of the yield keyword in Python...   \n",
       "5   Given the following code, what does the if __n...   \n",
       "9   Given the following code, what does the if __n...   \n",
       "15  In Python, what are metaclasses and what do we...   \n",
       "16  In Python, what are metaclasses and what do we...   \n",
       "\n",
       "                                               answer  key phrases  \n",
       "0   To understand what yield does, you must unders...          NaN  \n",
       "5   It's boilerplate code that protects users from...          NaN  \n",
       "9   if __name__ == \"__main__\" is the part that run...          NaN  \n",
       "15  Before understanding metaclasses, you need to ...          NaN  \n",
       "16  A metaclass is the class of a class. A class d...          NaN  "
      ]
     },
     "execution_count": 4,
     "metadata": {},
     "output_type": "execute_result"
    }
   ],
   "source": [
    "clean_df.head()"
   ]
  },
  {
   "cell_type": "code",
   "execution_count": 5,
   "id": "6c9391ab-e2bc-4faa-9ddc-c3e70233e6ad",
   "metadata": {},
   "outputs": [
    {
     "name": "stdout",
     "output_type": "stream",
     "text": [
      "Basic info about question lengths:\n"
     ]
    },
    {
     "data": {
      "text/plain": [
       "count    1359.000000\n",
       "mean       23.792494\n",
       "std        16.060899\n",
       "min         1.000000\n",
       "25%        12.000000\n",
       "50%        20.000000\n",
       "75%        32.000000\n",
       "max        92.000000\n",
       "Name: question, dtype: float64"
      ]
     },
     "execution_count": 5,
     "metadata": {},
     "output_type": "execute_result"
    }
   ],
   "source": [
    "print('Basic info about question lengths:')\n",
    "clean_df['question'].str.strip().str.split().str.len().describe()"
   ]
  },
  {
   "cell_type": "code",
   "execution_count": 6,
   "id": "af6b2862-f98e-4d59-aea1-c57e069cf97d",
   "metadata": {},
   "outputs": [
    {
     "name": "stdout",
     "output_type": "stream",
     "text": [
      "Basic info about answer lengths:\n"
     ]
    },
    {
     "data": {
      "text/plain": [
       "count    1361.000000\n",
       "mean       35.673769\n",
       "std        15.453278\n",
       "min        21.000000\n",
       "25%        25.000000\n",
       "50%        31.000000\n",
       "75%        41.000000\n",
       "max       143.000000\n",
       "Name: answer, dtype: float64"
      ]
     },
     "execution_count": 6,
     "metadata": {},
     "output_type": "execute_result"
    }
   ],
   "source": [
    "print('Basic info about answer lengths:')\n",
    "clean_df['answer'].str.strip().str.split().str.len().describe()"
   ]
  },
  {
   "cell_type": "code",
   "execution_count": 7,
   "id": "3e91b918-f8aa-4bde-89b6-0df759347f7d",
   "metadata": {},
   "outputs": [],
   "source": [
    "clean_df.to_csv('data/clean_qa_pairs.csv')"
   ]
  },
  {
   "cell_type": "code",
   "execution_count": null,
   "id": "149bc1af-9996-4881-9cee-13daca6f7f47",
   "metadata": {},
   "outputs": [],
   "source": []
  }
 ],
 "metadata": {
  "kernelspec": {
   "display_name": "Python 3",
   "language": "python",
   "name": "python3"
  },
  "language_info": {
   "codemirror_mode": {
    "name": "ipython",
    "version": 3
   },
   "file_extension": ".py",
   "mimetype": "text/x-python",
   "name": "python",
   "nbconvert_exporter": "python",
   "pygments_lexer": "ipython3",
   "version": "3.8.8"
  }
 },
 "nbformat": 4,
 "nbformat_minor": 5
}
